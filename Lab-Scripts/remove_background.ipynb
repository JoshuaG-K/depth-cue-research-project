{
 "cells": [
  {
   "cell_type": "code",
   "execution_count": 1,
   "metadata": {},
   "outputs": [],
   "source": [
    "import os\n",
    "import subprocess"
   ]
  },
  {
   "cell_type": "code",
   "execution_count": 6,
   "metadata": {},
   "outputs": [
    {
     "name": "stdout",
     "output_type": "stream",
     "text": [
      "Background removed: images/green_screen_images\\20231018_170151.jpg -> images/green_screen_images\\..\\background-removed\\20231018_170151_removed.png\n",
      "Background removed: images/green_screen_images\\bowl_Color.png -> images/green_screen_images\\..\\background-removed\\bowl_Color_removed.png\n",
      "Background removed: images/green_screen_images\\box2_Color.png -> images/green_screen_images\\..\\background-removed\\box2_Color_removed.png\n",
      "Background removed: images/green_screen_images\\box3_Color.png -> images/green_screen_images\\..\\background-removed\\box3_Color_removed.png\n",
      "Background removed: images/green_screen_images\\box_Color.png -> images/green_screen_images\\..\\background-removed\\box_Color_removed.png\n",
      "Background removed: images/green_screen_images\\chair1_Color.png -> images/green_screen_images\\..\\background-removed\\chair1_Color_removed.png\n",
      "Background removed: images/green_screen_images\\chair2_Color.png -> images/green_screen_images\\..\\background-removed\\chair2_Color_removed.png\n",
      "Background removed: images/green_screen_images\\chair3_Color_Color.png -> images/green_screen_images\\..\\background-removed\\chair3_Color_Color_removed.png\n",
      "Background removed: images/green_screen_images\\football1_Color_Color.png -> images/green_screen_images\\..\\background-removed\\football1_Color_Color_removed.png\n",
      "Background removed: images/green_screen_images\\plate_Color.png -> images/green_screen_images\\..\\background-removed\\plate_Color_removed.png\n",
      "Background removed: images/green_screen_images\\vball1_Color_Color.png -> images/green_screen_images\\..\\background-removed\\vball1_Color_Color_removed.png\n",
      "Background removed: images/green_screen_images\\vball2_Color_Color_Color.png -> images/green_screen_images\\..\\background-removed\\vball2_Color_Color_Color_removed.png\n",
      "Background removed: images/green_screen_images\\wood_Color.png -> images/green_screen_images\\..\\background-removed\\wood_Color_removed.png\n"
     ]
    }
   ],
   "source": [
    "# The below script takes all of the images in \"directory_to_search\" and removes the background from them. It is great for green screens\n",
    "# Need to run \"pip install rembg\"\n",
    "def remove_background(input_path, output_path):\n",
    "    # Assuming rembg is installed and available in the PATH environment variable\n",
    "    command = [\"rembg\", \"i\", input_path, output_path]\n",
    "    subprocess.run(command)\n",
    "\n",
    "def process_images(directory):\n",
    "    output_directory = os.path.join(directory, \"..\", \"background-removed\")\n",
    "    os.makedirs(output_directory, exist_ok=True)\n",
    "\n",
    "    image_extensions = [\".png\", \".jpg\", \".jpeg\"]\n",
    "    for root, _, files in os.walk(directory):\n",
    "        for file in files:\n",
    "            if file.lower().endswith(tuple(image_extensions)):\n",
    "                input_path = os.path.join(root, file)\n",
    "                output_filename = f\"{os.path.splitext(file)[0]}_removed.png\"\n",
    "                output_path = os.path.join(output_directory, output_filename)\n",
    "                remove_background(input_path, output_path)\n",
    "                print(f\"Background removed: {input_path} -> {output_path}\")\n",
    "\n",
    "if __name__ == \"__main__\":\n",
    "    directory_to_search = \"images/green_screen_images\"\n",
    "    process_images(directory_to_search)"
   ]
  }
 ],
 "metadata": {
  "kernelspec": {
   "display_name": "Python 3",
   "language": "python",
   "name": "python3"
  },
  "language_info": {
   "codemirror_mode": {
    "name": "ipython",
    "version": 3
   },
   "file_extension": ".py",
   "mimetype": "text/x-python",
   "name": "python",
   "nbconvert_exporter": "python",
   "pygments_lexer": "ipython3",
   "version": "3.11.4"
  }
 },
 "nbformat": 4,
 "nbformat_minor": 2
}
